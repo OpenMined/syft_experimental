{
 "cells": [
  {
   "cell_type": "code",
   "execution_count": null,
   "metadata": {},
   "outputs": [],
   "source": [
    "from syft import node\n",
    "from syft.protos import SyftMessageProto\n",
    "import pickle\n",
    "from typing import Optional, Callable\n",
    "\n",
    "import numpy as np"
   ]
  },
  {
   "cell_type": "code",
   "execution_count": null,
   "metadata": {},
   "outputs": [],
   "source": [
    "counter = 1"
   ]
  },
  {
   "cell_type": "code",
   "execution_count": null,
   "metadata": {},
   "outputs": [],
   "source": [
    "node.start()"
   ]
  },
  {
   "cell_type": "code",
   "execution_count": null,
   "metadata": {},
   "outputs": [],
   "source": [
    "def make_message(obj: object) -> SyftMessageProto:\n",
    "    request = SyftMessageProto()\n",
    "    request.capability = \"response\"\n",
    "    request.obj = pickle.dumps(obj)\n",
    "    return request\n",
    "\n",
    "\n",
    "def read_message(request_bytes: bytes) -> Optional[SyftMessageProto]:\n",
    "    try:\n",
    "        request = SyftMessageProto()\n",
    "        request.ParseFromString(bytes(request_bytes))\n",
    "        return request\n",
    "    except Exception as e:\n",
    "        print(f\"Python failed to decode request {repr(request_bytes)}, error: {e}\")\n",
    "        return None\n",
    "\n",
    "\n",
    "def create_handler(handler: Callable[[object], object]) -> Callable[[bytes], bytes]:\n",
    "    def wrapped_handler(request_bytes: bytes) -> bytes:\n",
    "        global counter\n",
    "        try:\n",
    "            counter += 1\n",
    "            message = read_message(request_bytes)\n",
    "            if message is not None:\n",
    "                data = pickle.loads(message.obj)\n",
    "                result = handler(data)\n",
    "                response = make_message(result)\n",
    "\n",
    "                # serialize protobuf to bytes\n",
    "                response_bytes = response.SerializeToString()\n",
    "                print(\n",
    "                    f\"Python counter: {counter} responding with Protobuf Message: {response}\"\n",
    "                )\n",
    "                return response_bytes\n",
    "            else:\n",
    "                print(f\"Python Callback failed\")\n",
    "                return b\"\"\n",
    "        except Exception as e:\n",
    "            print(f\"Python failed handle request {repr(request_bytes)}, error: {e}\")\n",
    "            return b\"\"\n",
    "\n",
    "    return wrapped_handler"
   ]
  },
  {
   "cell_type": "code",
   "execution_count": null,
   "metadata": {},
   "outputs": [],
   "source": [
    "def hello_handler(input: str) -> str:\n",
    "    print(f\"Handling a hello message {type(input)} {input}\")\n",
    "    return f\"Hello: {input}\"\n",
    "\n",
    "node.register(\"hello\", create_handler(hello_handler))"
   ]
  },
  {
   "cell_type": "code",
   "execution_count": null,
   "metadata": {},
   "outputs": [],
   "source": [
    "def sum_handler(input: list) -> int:\n",
    "    print(f\"Handling a sum message {type(input)} {input}\")\n",
    "    return sum(input)\n",
    "\n",
    "node.register(\"sum\", create_handler(sum_handler))"
   ]
  },
  {
   "cell_type": "code",
   "execution_count": null,
   "metadata": {},
   "outputs": [],
   "source": [
    "def sum_np_handler(input: list) -> int:\n",
    "    print(f\"Handling an np sum message {type(input)} {input}\")\n",
    "    return int(np.sum(input))\n",
    "\n",
    "node.register(\"sum_np\", create_handler(sum_np_handler))"
   ]
  },
  {
   "cell_type": "code",
   "execution_count": null,
   "metadata": {},
   "outputs": [],
   "source": []
  }
 ],
 "metadata": {
  "kernelspec": {
   "display_name": "Python 3",
   "language": "python",
   "name": "python3"
  },
  "language_info": {
   "codemirror_mode": {
    "name": "ipython",
    "version": 3
   },
   "file_extension": ".py",
   "mimetype": "text/x-python",
   "name": "python",
   "nbconvert_exporter": "python",
   "pygments_lexer": "ipython3",
   "version": "3.8.3"
  }
 },
 "nbformat": 4,
 "nbformat_minor": 4
}
