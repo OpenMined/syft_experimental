{
 "cells": [
  {
   "cell_type": "code",
   "execution_count": null,
   "metadata": {},
   "outputs": [],
   "source": [
    "from syft import node\n",
    "from syft.message import create_handler\n",
    "\n",
    "import numpy as np"
   ]
  },
  {
   "cell_type": "code",
   "execution_count": null,
   "metadata": {},
   "outputs": [],
   "source": [
    "port = 50051\n",
    "node.start(port)"
   ]
  },
  {
   "cell_type": "code",
   "execution_count": null,
   "metadata": {},
   "outputs": [],
   "source": [
    "def hello_handler(input: str) -> str:\n",
    "    print(f\"Handling a hello message {type(input)} {input}\")\n",
    "    return f\"Hello: {input}\"\n",
    "node.register(\"hello\", create_handler(hello_handler))"
   ]
  },
  {
   "cell_type": "code",
   "execution_count": null,
   "metadata": {},
   "outputs": [],
   "source": [
    "def sum_handler(input: list) -> int:\n",
    "    print(f\"Handling a sum message {type(input)} {input}\")\n",
    "    return sum(input)\n",
    "node.register(\"sum\", create_handler(sum_handler))"
   ]
  },
  {
   "cell_type": "code",
   "execution_count": null,
   "metadata": {},
   "outputs": [],
   "source": [
    "def sum_np_handler(input: list) -> int:\n",
    "    print(f\"Handling an np sum message {type(input)} {input}\")\n",
    "    return int(np.sum(input))\n",
    "node.register(\"sum_np\", create_handler(sum_np_handler))"
   ]
  },
  {
   "cell_type": "code",
   "execution_count": null,
   "metadata": {},
   "outputs": [],
   "source": []
  }
 ],
 "metadata": {
  "kernelspec": {
   "display_name": "Python 3",
   "language": "python",
   "name": "python3"
  },
  "language_info": {
   "codemirror_mode": {
    "name": "ipython",
    "version": 3
   },
   "file_extension": ".py",
   "mimetype": "text/x-python",
   "name": "python",
   "nbconvert_exporter": "python",
   "pygments_lexer": "ipython3",
   "version": "3.8.3"
  }
 },
 "nbformat": 4,
 "nbformat_minor": 4
}
