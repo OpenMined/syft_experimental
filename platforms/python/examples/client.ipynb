{
 "cells": [
  {
   "cell_type": "code",
   "execution_count": null,
   "metadata": {},
   "outputs": [],
   "source": [
    "from syft import node\n",
    "from syft.message import run_class_method_message as remote_execute\n",
    "from syft.protos import SyftMessageProto\n",
    "import pickle\n",
    "from typing import Optional, Callable\n",
    "\n",
    "import numpy as np"
   ]
  },
  {
   "cell_type": "code",
   "execution_count": null,
   "metadata": {},
   "outputs": [],
   "source": [
    "counter = 1"
   ]
  },
  {
   "cell_type": "code",
   "execution_count": null,
   "metadata": {},
   "outputs": [],
   "source": [
    "def execute_capability(remote_addr: str, capability: str, data: object) -> object:\n",
    "    try:\n",
    "        request = make_message(capability, data)\n",
    "        request_bytes = request.SerializeToString()\n",
    "        response_bytes = remote_execute(remote_addr, request_bytes)\n",
    "        try:\n",
    "            response = read_message(response_bytes)\n",
    "            if response is not None:\n",
    "                data = pickle.loads(response.obj)\n",
    "                return data\n",
    "                print(f\"Python got response: {response}\")\n",
    "            else:\n",
    "                print(f\"Python failed to decode response: {repr(response_bytes)}\")\n",
    "            return None\n",
    "        except Exception as e:\n",
    "            print(f\"Python failed to decode response: {e} {response_bytes}\")\n",
    "        return None\n",
    "    except Exception as e:\n",
    "        print(\n",
    "            f\"Python failed to execute request: {e} {remote_addr} {capability} {data}\"\n",
    "        )\n",
    "        return None\n",
    "\n",
    "\n",
    "def make_message(capability: str, obj: object) -> SyftMessageProto:\n",
    "    request = SyftMessageProto()\n",
    "    request.capability = capability\n",
    "    request.obj = pickle.dumps(obj)\n",
    "    return request\n",
    "\n",
    "\n",
    "def read_message(request_bytes: bytes) -> Optional[SyftMessageProto]:\n",
    "    try:\n",
    "        request = SyftMessageProto()\n",
    "        request.ParseFromString(bytes(request_bytes))\n",
    "        return request\n",
    "    except Exception as e:\n",
    "        print(f\"Python failed to decode request {repr(request_bytes)}, error: {e}\")\n",
    "        return None"
   ]
  },
  {
   "cell_type": "code",
   "execution_count": null,
   "metadata": {},
   "outputs": [],
   "source": [
    "target_addr = \"http://[::1]:50051\"\n",
    "\n",
    "remote_caps = node.request_capabilities(target_addr)\n",
    "print(f\"Node at: {target_addr} has capabilities: {remote_caps}\")"
   ]
  },
  {
   "cell_type": "code",
   "execution_count": null,
   "metadata": {},
   "outputs": [],
   "source": [
    "execute_capability(target_addr, \"hello\", \"Client 1\")"
   ]
  },
  {
   "cell_type": "code",
   "execution_count": null,
   "metadata": {},
   "outputs": [],
   "source": [
    "execute_capability(target_addr, \"sum\", [1, 2, 3])"
   ]
  },
  {
   "cell_type": "code",
   "execution_count": null,
   "metadata": {},
   "outputs": [],
   "source": [
    "execute_capability(target_addr, \"sum_np\", [1, 2, 3])"
   ]
  }
 ],
 "metadata": {
  "kernelspec": {
   "display_name": "Python 3",
   "language": "python",
   "name": "python3"
  },
  "language_info": {
   "codemirror_mode": {
    "name": "ipython",
    "version": 3
   },
   "file_extension": ".py",
   "mimetype": "text/x-python",
   "name": "python",
   "nbconvert_exporter": "python",
   "pygments_lexer": "ipython3",
   "version": "3.8.3"
  }
 },
 "nbformat": 4,
 "nbformat_minor": 4
}
